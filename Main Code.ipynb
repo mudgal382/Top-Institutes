{
 "cells": [
  {
   "cell_type": "code",
   "execution_count": null,
   "metadata": {},
   "outputs": [],
   "source": [
    "import numpy as np \n",
    "import pandas as pd \n",
    "import matplotlib.pyplot as plt\n",
    "import seaborn as sns\n",
    "import sklearn"
   ]
  },
  {
   "cell_type": "code",
   "execution_count": null,
   "metadata": {},
   "outputs": [],
   "source": [
    "top institutes=pd.read_csv(\".csv\")"
   ]
  },
  {
   "cell_type": "code",
   "execution_count": null,
   "metadata": {},
   "outputs": [],
   "source": [
    "institutes.head(10);"
   ]
  },
  {
   "cell_type": "code",
   "execution_count": null,
   "metadata": {},
   "outputs": [],
   "source": [
    "institutes_copy=institutes.copy()"
   ]
  },
  {
   "cell_type": "code",
   "execution_count": null,
   "metadata": {},
   "outputs": [],
   "source": [
    "institutes_copy.shape"
   ]
  },
  {
   "cell_type": "code",
   "execution_count": null,
   "metadata": {},
   "outputs": [],
   "source": [
    "institutes_copy.dtypes"
   ]
  },
  {
   "cell_type": "code",
   "execution_count": null,
   "metadata": {},
   "outputs": [],
   "source": [
    "institutes_copy.isnull().sum()"
   ]
  },
  {
   "cell_type": "code",
   "execution_count": null,
   "metadata": {},
   "outputs": [],
   "source": [
    "institutes_copy['grade='].fillna(value=0,inplace=True)"
   ]
  },
  {
   "cell_type": "code",
   "execution_count": null,
   "metadata": {},
   "outputs": [],
   "source": [
    "institutes_copy.isnull().sum()"
   ]
  },
  {
   "cell_type": "code",
   "execution_count": null,
   "metadata": {},
   "outputs": [],
   "source": [
    "institutes_copy.drop['','',''], axis=1, inplace=True"
   ]
  },
  {
   "cell_type": "code",
   "execution_count": null,
   "metadata": {},
   "outputs": [],
   "source": [
    "institutes_copy.head()"
   ]
  },
  {
   "cell_type": "code",
   "execution_count": null,
   "metadata": {},
   "outputs": [],
   "source": [
    "Outlier Handling\n",
    "plt.figure(figsize = (15,10))\n",
    "\n",
    "ax = plt.subplot()\n",
    "plt.boxplot(institutes_copy[''])\n",
    "ax.set_title('')\n",
    "\n",
    "ax = plt.subplot()\n",
    "plt.boxplot(institutes_copy[''])\n",
    "ax.set_title('')\n",
    "\n",
    "ax = plt.subplot()\n",
    "plt.boxplot(institues_copy[''])\n",
    "ax.set_title('')\n",
    "\n",
    "ax = plt.subplot()\n",
    "plt.boxplot(institutes_copy[''])\n",
    "ax.set_title('')"
   ]
  },
  {
   "cell_type": "code",
   "execution_count": null,
   "metadata": {},
   "outputs": [],
   "source": [
    "For filtering Top Institutes\n",
    "filter = (institutes_copy[''] >= Condition1) & (institutes_copy['']<= Condition2)\n",
    "institutes_filtered= institutes_copy.loc[filter]\n"
   ]
  },
  {
   "cell_type": "code",
   "execution_count": null,
   "metadata": {},
   "outputs": [],
   "source": [
    "plt.boxplot(institutes_filtered[''])"
   ]
  },
  {
   "cell_type": "code",
   "execution_count": null,
   "metadata": {},
   "outputs": [],
   "source": [
    "plt.figure(figsize = (15,7))\n",
    "\n",
    "plt.subplot(231)\n",
    "ax = sns.countplot(x= 'placements' , data = institutes_filtered)\n",
    "\n",
    "plt.subplot(232)\n",
    "ax = sns.countplot(x= 'campus' , data = institutes_filtered)\n",
    "\n",
    "plt.subplot(233)\n",
    "ax = sns.countplot(x= 'degree_t' , data = institutes_filtered)\n",
    "\n",
    "plt.subplot(234)\n",
    "ax = sns.countplot(x= 'specialisation' , data = institutes_filtered)\n",
    "\n",
    "plt.subplot(235)\n",
    "ax = sns.countplot(x= 'facilities' , data = institutes_filtered)\n",
    "\n",
    "plt.subplot(236)\n",
    "ax = sns.countplot(x= 'grade' , data = institutes_filtered)"
   ]
  },
  {
   "cell_type": "code",
   "execution_count": null,
   "metadata": {},
   "outputs": [],
   "source": [
    "institutes_top = institutes_filtered[institues_filtered.grade= A+]\n",
    "sns.distplot(institutes_top['grade'])"
   ]
  },
  {
   "cell_type": "code",
   "execution_count": null,
   "metadata": {},
   "outputs": [],
   "source": [
    "px.violin(ibstitutes_top,y=\"grade\",x=\"specialisation\",color=\"placements\",box=True,points=\"all\")"
   ]
  },
  {
   "cell_type": "code",
   "execution_count": null,
   "metadata": {},
   "outputs": [],
   "source": [
    "#Label Encoding\n",
    "from sklearn.preprocessing import LabelEncoder\n",
    "\n",
    "object_cols= ['placement','facilities','specialisation','grade']\n",
    "\n",
    "label_encoder = LabelEncoder()\n",
    "\n",
    "for col in object_cols:\n",
    "    institute_filtered[col]= label_encoder.fit_transform(institute_filtered[col])\n",
    "    \n",
    "institutes_filtered.head(10)"
   ]
  },
  {
   "cell_type": "code",
   "execution_count": null,
   "metadata": {},
   "outputs": [],
   "source": [
    "#Logistic Regression - \n",
    "import warnings\n",
    "warnings.filterwarnings('ignore')\n",
    "\n",
    "from sklearn.linear_model import LogisticRegression\n",
    "from sklearn import metrics\n",
    "\n",
    "logreg = LogisticRegression()\n",
    "\n",
    "logreg.fit(X_train , y_train)\n",
    "\n",
    "y_pred = logreg.predict(X_test)\n",
    "\n",
    "print(logreg.score(X_test , y_test))\n"
   ]
  },
  {
   "cell_type": "code",
   "execution_count": null,
   "metadata": {},
   "outputs": [],
   "source": []
  }
 ],
 "metadata": {
  "kernelspec": {
   "display_name": "Python 3.10.5 64-bit",
   "language": "python",
   "name": "python3"
  },
  "language_info": {
   "name": "python",
   "version": "3.10.5"
  },
  "orig_nbformat": 4,
  "vscode": {
   "interpreter": {
    "hash": "fbc768028c3e6ead51d9a200ddcb2ec858ae62844dcd1994729a8279be9b48f2"
   }
  }
 },
 "nbformat": 4,
 "nbformat_minor": 2
}
